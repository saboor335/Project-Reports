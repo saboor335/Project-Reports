{
 "cells": [
  {
   "cell_type": "code",
   "execution_count": 21,
   "source": [
    "hungary=True\r\n",
    "if hungary :\r\n",
    "    print('i am hungary')\r\n",
    "else:\r\n",
    "    print('you are not hungary')"
   ],
   "outputs": [
    {
     "output_type": "stream",
     "name": "stdout",
     "text": [
      "i am hungary\n"
     ]
    }
   ],
   "metadata": {}
  },
  {
   "cell_type": "code",
   "execution_count": 22,
   "source": [
    "condition='sad'\r\n",
    "if condition=='happy':\r\n",
    "    print('nice')\r\n",
    "elif condition!='happy'and 'sad':       #elif require condition\r\n",
    "    print('how is your mood')\r\n",
    "else:                                  #els not requred conditon\r\n",
    "    print('sorry')"
   ],
   "outputs": [
    {
     "output_type": "stream",
     "name": "stdout",
     "text": [
      "how is your mood\n"
     ]
    }
   ],
   "metadata": {}
  },
  {
   "cell_type": "code",
   "execution_count": 23,
   "source": [
    "#synatx : iteratable object(can be string dic list) iteratable place holder and varaible that was assign to object\r\n",
    "# findig even and odd in list \r\n",
    "mylist=[1,2,3,4,5,6,7,8,9,10]\r\n",
    "for itr in mylist:\r\n",
    "    if itr%2==0:\r\n",
    "        print(itr)\r\n",
    "    else:\r\n",
    "        print(f'your number is odd:{itr}')"
   ],
   "outputs": [
    {
     "output_type": "stream",
     "name": "stdout",
     "text": [
      "your number is odd:1\n",
      "2\n",
      "your number is odd:3\n",
      "4\n",
      "your number is odd:5\n",
      "6\n",
      "your number is odd:7\n",
      "8\n",
      "your number is odd:9\n",
      "10\n"
     ]
    }
   ],
   "metadata": {}
  },
  {
   "cell_type": "code",
   "execution_count": 24,
   "source": [
    "#runnig telly\r\n",
    "sum=0\r\n",
    "for _ in mylist:\r\n",
    "    sum=_+sum\r\n",
    "    print(sum)\r\n",
    "print(sum)\r\n",
    "    "
   ],
   "outputs": [
    {
     "output_type": "stream",
     "name": "stdout",
     "text": [
      "1\n",
      "3\n",
      "6\n",
      "10\n",
      "15\n",
      "21\n",
      "28\n",
      "36\n",
      "45\n",
      "55\n",
      "55\n"
     ]
    }
   ],
   "metadata": {}
  },
  {
   "cell_type": "code",
   "execution_count": 25,
   "source": [
    "mystring2='Hellow world'\r\n",
    "for n in mystring2 :\r\n",
    "    print(n+'hwll')"
   ],
   "outputs": [
    {
     "output_type": "stream",
     "name": "stdout",
     "text": [
      "Hhwll\n",
      "ehwll\n",
      "lhwll\n",
      "lhwll\n",
      "ohwll\n",
      "whwll\n",
      " hwll\n",
      "whwll\n",
      "ohwll\n",
      "rhwll\n",
      "lhwll\n",
      "dhwll\n"
     ]
    }
   ],
   "metadata": {}
  },
  {
   "cell_type": "code",
   "execution_count": 26,
   "source": [
    "#tuppel as iterable and tupel unpacking:\r\n",
    "mytupple=[(1,2),(3,4),(5,6)] #tuppels in list common in python\r\n",
    "for item in mytupple :\r\n",
    "    print(item)"
   ],
   "outputs": [
    {
     "output_type": "stream",
     "name": "stdout",
     "text": [
      "(1, 2)\n",
      "(3, 4)\n",
      "(5, 6)\n"
     ]
    }
   ],
   "metadata": {}
  },
  {
   "cell_type": "code",
   "execution_count": 27,
   "source": [
    "#tuppel as iterable and tupel unpacking:\r\n",
    "mytupple=[(1,2),(3,4),(5,6)] #tuppels in list common in python\r\n",
    "for a,b in mytupple :\r\n",
    "    print(a,b)"
   ],
   "outputs": [
    {
     "output_type": "stream",
     "name": "stdout",
     "text": [
      "1 2\n",
      "3 4\n",
      "5 6\n"
     ]
    }
   ],
   "metadata": {}
  },
  {
   "cell_type": "code",
   "execution_count": 28,
   "source": [
    "#tuppel as iterable and tupel unpacking:\r\n",
    "mytupple=[(1,2),(3,4),(5,6)] #tuppels in list common in python\r\n",
    "for i,j in mytupple :\r\n",
    "    print(i)"
   ],
   "outputs": [
    {
     "output_type": "stream",
     "name": "stdout",
     "text": [
      "1\n",
      "3\n",
      "5\n"
     ]
    }
   ],
   "metadata": {}
  },
  {
   "cell_type": "code",
   "execution_count": 29,
   "source": [
    "#tuppel as iterable and tupel unpacking:\r\n",
    "mytupple=[(1,2),(3,4),(5,6)] #tuppels in list common in python\r\n",
    "for item in mytupple :\r\n",
    "    for i,j in item:\r\n",
    "        print(i)"
   ],
   "outputs": [
    {
     "output_type": "error",
     "ename": "TypeError",
     "evalue": "cannot unpack non-iterable int object",
     "traceback": [
      "\u001b[1;31m---------------------------------------------------------------------------\u001b[0m",
      "\u001b[1;31mTypeError\u001b[0m                                 Traceback (most recent call last)",
      "\u001b[1;32mC:\\Users\\SABRIL~1\\AppData\\Local\\Temp/ipykernel_5072/2374724112.py\u001b[0m in \u001b[0;36m<module>\u001b[1;34m\u001b[0m\n\u001b[0;32m      2\u001b[0m \u001b[0mmytupple\u001b[0m\u001b[1;33m=\u001b[0m\u001b[1;33m[\u001b[0m\u001b[1;33m(\u001b[0m\u001b[1;36m1\u001b[0m\u001b[1;33m,\u001b[0m\u001b[1;36m2\u001b[0m\u001b[1;33m)\u001b[0m\u001b[1;33m,\u001b[0m\u001b[1;33m(\u001b[0m\u001b[1;36m3\u001b[0m\u001b[1;33m,\u001b[0m\u001b[1;36m4\u001b[0m\u001b[1;33m)\u001b[0m\u001b[1;33m,\u001b[0m\u001b[1;33m(\u001b[0m\u001b[1;36m5\u001b[0m\u001b[1;33m,\u001b[0m\u001b[1;36m6\u001b[0m\u001b[1;33m)\u001b[0m\u001b[1;33m]\u001b[0m \u001b[1;31m#tuppels in list common in python\u001b[0m\u001b[1;33m\u001b[0m\u001b[1;33m\u001b[0m\u001b[0m\n\u001b[0;32m      3\u001b[0m \u001b[1;32mfor\u001b[0m \u001b[0mitem\u001b[0m \u001b[1;32min\u001b[0m \u001b[0mmytupple\u001b[0m \u001b[1;33m:\u001b[0m\u001b[1;33m\u001b[0m\u001b[1;33m\u001b[0m\u001b[0m\n\u001b[1;32m----> 4\u001b[1;33m     \u001b[1;32mfor\u001b[0m \u001b[0mi\u001b[0m\u001b[1;33m,\u001b[0m\u001b[0mj\u001b[0m \u001b[1;32min\u001b[0m \u001b[0mitem\u001b[0m\u001b[1;33m:\u001b[0m\u001b[1;33m\u001b[0m\u001b[1;33m\u001b[0m\u001b[0m\n\u001b[0m\u001b[0;32m      5\u001b[0m         \u001b[0mprint\u001b[0m\u001b[1;33m(\u001b[0m\u001b[0mi\u001b[0m\u001b[1;33m)\u001b[0m\u001b[1;33m\u001b[0m\u001b[1;33m\u001b[0m\u001b[0m\n",
      "\u001b[1;31mTypeError\u001b[0m: cannot unpack non-iterable int object"
     ]
    }
   ],
   "metadata": {}
  },
  {
   "cell_type": "code",
   "execution_count": null,
   "source": [
    "#tuppel as iterable and tupel unpacking:\r\n",
    "mytupple=[(1,2),(3,4),(5,6),(8,7)] #tuppels in list common in python\r\n",
    "for i,j in mytupple :\r\n",
    "    if i<j:\r\n",
    "        print(i,j)\r\n",
    "    else:\r\n",
    "        print(i,j)"
   ],
   "outputs": [
    {
     "output_type": "stream",
     "name": "stdout",
     "text": [
      "1 2\n",
      "3 4\n",
      "5 6\n",
      "8 7\n"
     ]
    }
   ],
   "metadata": {}
  },
  {
   "cell_type": "code",
   "execution_count": null,
   "source": [
    "#how to iterate throuh dic\r\n",
    "d={'k':1,'k2':2,'k3':3,'k5':5}\r\n",
    "for a in d:\r\n",
    "    print(a)"
   ],
   "outputs": [
    {
     "output_type": "stream",
     "name": "stdout",
     "text": [
      "k\n",
      "k2\n",
      "k3\n",
      "k5\n"
     ]
    }
   ],
   "metadata": {}
  },
  {
   "cell_type": "code",
   "execution_count": null,
   "source": [
    "d={'k':1,'k2':2,'k3':3,'k5':5}\r\n",
    "for a in d.items():\r\n",
    "    print(a)"
   ],
   "outputs": [
    {
     "output_type": "stream",
     "name": "stdout",
     "text": [
      "('k', 1)\n",
      "('k2', 2)\n",
      "('k3', 3)\n",
      "('k5', 5)\n"
     ]
    }
   ],
   "metadata": {}
  },
  {
   "cell_type": "code",
   "execution_count": null,
   "source": [
    "d={'k':1,'k2':2,'k3':3,'k5':5}\r\n",
    "for a,b in d.items():\r\n",
    "    print(b)"
   ],
   "outputs": [
    {
     "output_type": "stream",
     "name": "stdout",
     "text": [
      "1\n",
      "2\n",
      "3\n",
      "5\n"
     ]
    }
   ],
   "metadata": {
    "scrolled": true
   }
  },
  {
   "cell_type": "code",
   "execution_count": null,
   "source": [
    "x=0\r\n",
    "while x < 10:\r\n",
    "    x=x+1\r\n",
    "    print('safe')\r\n",
    "    "
   ],
   "outputs": [
    {
     "output_type": "stream",
     "name": "stdout",
     "text": [
      "safe\n",
      "safe\n",
      "safe\n",
      "safe\n",
      "safe\n",
      "safe\n",
      "safe\n",
      "safe\n",
      "safe\n",
      "safe\n"
     ]
    }
   ],
   "metadata": {}
  },
  {
   "cell_type": "code",
   "execution_count": null,
   "source": [
    "x=0\r\n",
    "while x < 10: #feed dog while hungary # continue to execute the code while  the condition is true\r\n",
    "    \r\n",
    "    print('safe')\r\n",
    "    x=x+1"
   ],
   "outputs": [
    {
     "output_type": "stream",
     "name": "stdout",
     "text": [
      "safe\n",
      "safe\n",
      "safe\n",
      "safe\n",
      "safe\n",
      "safe\n",
      "safe\n",
      "safe\n",
      "safe\n",
      "safe\n"
     ]
    }
   ],
   "metadata": {}
  },
  {
   "cell_type": "code",
   "execution_count": null,
   "source": [
    "#  There is some keyword for loops in python pass kewyword to aviod syntax error does nothing at all break : the loop at certian condition \r\n",
    "#continue : goes to the top of the closet enclosing loop"
   ],
   "outputs": [],
   "metadata": {}
  },
  {
   "cell_type": "code",
   "execution_count": null,
   "source": [
    "# range function to generate the number\r\n",
    "for num in range(3,30,6):\r\n",
    "    print(num)"
   ],
   "outputs": [
    {
     "output_type": "stream",
     "name": "stdout",
     "text": [
      "3\n",
      "9\n",
      "15\n",
      "21\n",
      "27\n"
     ]
    }
   ],
   "metadata": {}
  },
  {
   "cell_type": "code",
   "execution_count": null,
   "source": [
    "list(range(10))"
   ],
   "outputs": [
    {
     "output_type": "execute_result",
     "data": {
      "text/plain": [
       "[0, 1, 2, 3, 4, 5, 6, 7, 8, 9]"
      ]
     },
     "metadata": {},
     "execution_count": 7
    }
   ],
   "metadata": {}
  },
  {
   "cell_type": "code",
   "execution_count": null,
   "source": [
    "# string iteration through index and index counting \r\n",
    "index=0\r\n",
    "word='abcdefg'\r\n",
    "for letter in word:\r\n",
    "    print('at index {} the letter is {}'.format(index,letter))# the curly braces are place holders \r\n",
    "    index+=1 # this is counter to go through the loop"
   ],
   "outputs": [
    {
     "output_type": "stream",
     "name": "stdout",
     "text": [
      "at index 0 the letter is a\n",
      "at index 1 the letter is b\n",
      "at index 2 the letter is c\n",
      "at index 3 the letter is d\n",
      "at index 4 the letter is e\n",
      "at index 5 the letter is f\n",
      "at index 6 the letter is g\n"
     ]
    }
   ],
   "metadata": {}
  },
  {
   "cell_type": "code",
   "execution_count": null,
   "source": [
    "indexcount=0\r\n",
    "word='abcd'\r\n",
    "for letter in word:\r\n",
    "    print(word[indexcount])\r\n",
    "    indexcount+=1"
   ],
   "outputs": [
    {
     "output_type": "stream",
     "name": "stdout",
     "text": [
      "a\n",
      "b\n",
      "c\n",
      "d\n"
     ]
    }
   ],
   "metadata": {}
  },
  {
   "cell_type": "code",
   "execution_count": null,
   "source": [
    "# enmurate function\r\n",
    "word='abcdf'\r\n",
    "for letter,j in enumerate(word): #take the itetrable object and return object with its index\r\n",
    "    print(letter)\r\n",
    "    print(j)"
   ],
   "outputs": [
    {
     "output_type": "stream",
     "name": "stdout",
     "text": [
      "0\n",
      "a\n",
      "1\n",
      "b\n",
      "2\n",
      "c\n",
      "3\n",
      "d\n",
      "4\n",
      "f\n"
     ]
    }
   ],
   "metadata": {}
  },
  {
   "cell_type": "code",
   "execution_count": null,
   "source": [
    "#zip function zip the list to a list . more the two list also possible \r\n",
    "list1=[1,2,3]\r\n",
    "list2=['a','b','c']\r\n",
    "ab=zip(list1,list2)"
   ],
   "outputs": [
    {
     "output_type": "execute_result",
     "data": {
      "text/plain": [
       "<zip at 0x2765177c040>"
      ]
     },
     "metadata": {},
     "execution_count": 18
    }
   ],
   "metadata": {}
  },
  {
   "cell_type": "code",
   "execution_count": null,
   "source": [
    "list1=[1,2,3]\r\n",
    "list2=['a','b','c']\r\n",
    "ab=zip(list1,list2)\r\n",
    "for item in ab:\r\n",
    "    print(item)\r\n",
    "    print(list(item))"
   ],
   "outputs": [
    {
     "output_type": "stream",
     "name": "stdout",
     "text": [
      "(1, 'a')\n",
      "[1, 'a']\n",
      "(2, 'b')\n",
      "[2, 'b']\n",
      "(3, 'c')\n",
      "[3, 'c']\n"
     ]
    }
   ],
   "metadata": {}
  },
  {
   "cell_type": "code",
   "execution_count": null,
   "source": [
    "# in operator \r\n"
   ],
   "outputs": [
    {
     "output_type": "error",
     "ename": "NameError",
     "evalue": "name 'a' is not defined",
     "traceback": [
      "\u001b[1;31m---------------------------------------------------------------------------\u001b[0m",
      "\u001b[1;31mNameError\u001b[0m                                 Traceback (most recent call last)",
      "\u001b[1;32m<ipython-input-23-e8d606e78fd4>\u001b[0m in \u001b[0;36m<module>\u001b[1;34m\u001b[0m\n\u001b[1;32m----> 1\u001b[1;33m \u001b[0mlist\u001b[0m\u001b[1;33m(\u001b[0m\u001b[0ma\u001b[0m\u001b[1;33m)\u001b[0m\u001b[1;33m\u001b[0m\u001b[1;33m\u001b[0m\u001b[0m\n\u001b[0m",
      "\u001b[1;31mNameError\u001b[0m: name 'a' is not defined"
     ]
    }
   ],
   "metadata": {}
  },
  {
   "cell_type": "code",
   "execution_count": null,
   "source": [
    "# in operator\r\n",
    "'a'in \"abbbsbcbasjdas\""
   ],
   "outputs": [
    {
     "output_type": "execute_result",
     "data": {
      "text/plain": [
       "True"
      ]
     },
     "metadata": {},
     "execution_count": 30
    }
   ],
   "metadata": {}
  },
  {
   "cell_type": "code",
   "execution_count": null,
   "source": [
    "'my'in {'my':345}"
   ],
   "outputs": [
    {
     "output_type": "execute_result",
     "data": {
      "text/plain": [
       "True"
      ]
     },
     "metadata": {},
     "execution_count": 31
    }
   ],
   "metadata": {}
  },
  {
   "cell_type": "code",
   "execution_count": null,
   "source": [
    "d={'my':345}\r\n",
    "345 in d.values()"
   ],
   "outputs": [
    {
     "output_type": "execute_result",
     "data": {
      "text/plain": [
       "True"
      ]
     },
     "metadata": {},
     "execution_count": 33
    }
   ],
   "metadata": {}
  },
  {
   "cell_type": "code",
   "execution_count": null,
   "source": [
    "# min and max to check the min and max in list\r\n",
    "# random library in python\r\n",
    "# impoting library in python \r\n",
    "from random import shuffle\r\n",
    "mylist=[range(10,0,1)]\r\n",
    "shuffle(mylist) # shuffle in place function \r\n",
    "print(mylist)"
   ],
   "outputs": [
    {
     "output_type": "stream",
     "name": "stdout",
     "text": [
      "[range(10, 0)]\n"
     ]
    }
   ],
   "metadata": {}
  },
  {
   "cell_type": "code",
   "execution_count": null,
   "source": [
    "# to get random integer\r\n",
    "from random import randint \r\n",
    "randint(0,10)"
   ],
   "outputs": [
    {
     "output_type": "execute_result",
     "data": {
      "text/plain": [
       "1"
      ]
     },
     "metadata": {},
     "execution_count": 40
    }
   ],
   "metadata": {}
  },
  {
   "cell_type": "code",
   "execution_count": null,
   "source": [
    "# generating a list from a string \r\n",
    "mystring='wxyz'\r\n",
    "mylist=[]\r\n",
    "for letter in mystring :\r\n",
    "    mylist.append(letter)\r\n",
    "print(mylist)"
   ],
   "outputs": [
    {
     "output_type": "stream",
     "name": "stdout",
     "text": [
      "['w', 'x', 'y', 'z']\n"
     ]
    }
   ],
   "metadata": {}
  },
  {
   "cell_type": "code",
   "execution_count": null,
   "source": [
    "mylist=[letter for letter in mystring] # does the same work element for an element in string"
   ],
   "outputs": [],
   "metadata": {}
  },
  {
   "cell_type": "code",
   "execution_count": null,
   "source": [
    "mylist"
   ],
   "outputs": [
    {
     "output_type": "execute_result",
     "data": {
      "text/plain": [
       "['w', 'x', 'y', 'z']"
      ]
     },
     "metadata": {},
     "execution_count": 46
    }
   ],
   "metadata": {}
  },
  {
   "cell_type": "code",
   "execution_count": null,
   "source": [
    "mylist=[x for x in range(0,11)] # this is called flattening of for LOoop"
   ],
   "outputs": [],
   "metadata": {}
  },
  {
   "cell_type": "code",
   "execution_count": null,
   "source": [
    "mylist"
   ],
   "outputs": [
    {
     "output_type": "execute_result",
     "data": {
      "text/plain": [
       "[0, 1, 2, 3, 4, 5, 6, 7, 8, 9, 10]"
      ]
     },
     "metadata": {},
     "execution_count": 48
    }
   ],
   "metadata": {}
  },
  {
   "cell_type": "code",
   "execution_count": null,
   "source": [
    "mylist=[x**2 for x in range(0,11)] "
   ],
   "outputs": [],
   "metadata": {}
  },
  {
   "cell_type": "code",
   "execution_count": null,
   "source": [
    "mylist"
   ],
   "outputs": [
    {
     "output_type": "execute_result",
     "data": {
      "text/plain": [
       "[0, 1, 4, 9, 16, 25, 36, 49, 64, 81, 100]"
      ]
     },
     "metadata": {},
     "execution_count": 51
    }
   ],
   "metadata": {}
  },
  {
   "cell_type": "code",
   "execution_count": null,
   "source": [
    "# falttening the for loop with if statement \r\n",
    "mylist=[x**2 for x in range(0,11) if x%2==0]"
   ],
   "outputs": [],
   "metadata": {}
  },
  {
   "cell_type": "code",
   "execution_count": null,
   "source": [
    "mylist"
   ],
   "outputs": [
    {
     "output_type": "execute_result",
     "data": {
      "text/plain": [
       "[0, 4, 16, 36, 64, 100]"
      ]
     },
     "metadata": {},
     "execution_count": 53
    }
   ],
   "metadata": {}
  },
  {
   "cell_type": "code",
   "execution_count": 30,
   "source": [
    "#celcious to fahrenheit  \r\n",
    "# new adding\r\n",
    "cecluos=[0,14,23,56,74]\r\n",
    "fahrehient=[((9/5)*temp+32) for temp in cecluos] # list comprehension\r\n",
    "fahrehient"
   ],
   "outputs": [
    {
     "output_type": "execute_result",
     "data": {
      "text/plain": [
       "[32.0, 57.2, 73.4, 132.8, 165.20000000000002]"
      ]
     },
     "metadata": {},
     "execution_count": 30
    }
   ],
   "metadata": {}
  },
  {
   "cell_type": "code",
   "execution_count": null,
   "source": [
    "farheine=[]\r\n",
    "ccelic=[0,14,23,56,74]\r\n",
    "for temp in ccelic:\r\n",
    "    farheine.append((9/5)*temp+32)"
   ],
   "outputs": [],
   "metadata": {}
  },
  {
   "cell_type": "code",
   "execution_count": null,
   "source": [
    "#list comphrihension in if statement \r\n",
    "number=[1,2,3,4,5,6,7,8,9]\r\n",
    "even=[x if x%2==0  else 'x' for x in number]\r\n",
    "even"
   ],
   "outputs": [
    {
     "output_type": "execute_result",
     "data": {
      "text/plain": [
       "['x', 2, 'x', 4, 'x', 6, 'x', 8, 'x']"
      ]
     },
     "metadata": {},
     "execution_count": 11
    }
   ],
   "metadata": {}
  },
  {
   "cell_type": "code",
   "execution_count": null,
   "source": [
    "# nested loops \r\n",
    "integer=[]\r\n",
    "for x in [2,4]:\r\n",
    "    for y in [10,20]:\r\n",
    "        integer.append(x*y)"
   ],
   "outputs": [],
   "metadata": {}
  },
  {
   "cell_type": "code",
   "execution_count": null,
   "source": [
    "#through list comphrehension\r\n",
    "integer=[x*y for x in [2,4] for y in [10,20]]"
   ],
   "outputs": [],
   "metadata": {}
  },
  {
   "cell_type": "code",
   "execution_count": null,
   "source": [],
   "outputs": [],
   "metadata": {}
  }
 ],
 "metadata": {
  "kernelspec": {
   "name": "python3",
   "display_name": "Python 3.8.5 32-bit"
  },
  "language_info": {
   "codemirror_mode": {
    "name": "ipython",
    "version": 3
   },
   "file_extension": ".py",
   "mimetype": "text/x-python",
   "name": "python",
   "nbconvert_exporter": "python",
   "pygments_lexer": "ipython3",
   "version": "3.8.5"
  },
  "interpreter": {
   "hash": "6acc0518967ec038f03db2fc09cdb3572c3ac03b94b4cad17fc884a92c884e88"
  }
 },
 "nbformat": 4,
 "nbformat_minor": 5
}